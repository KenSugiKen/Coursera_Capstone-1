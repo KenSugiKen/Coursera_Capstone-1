{
    "cells": [
        {
            "metadata": {},
            "cell_type": "code",
            "source": "import requests # library to handle requests\nimport pandas as pd # library for data analsysis\nimport numpy as np # library to handle data in a vectorized manner\nfrom bs4 import BeautifulSoup  # import BeautifulSoup libraries\n\n\n\n#import random # library for random number generation\n\n#!conda install -c conda-forge geopy --yes \n#from geopy.geocoders import Nominatim # module to convert an address into latitude and longitude values\n\n# libraries for displaying images\n#from IPython.display import Image \n#from IPython.core.display import HTML \n    \n# tranforming json file into a pandas dataframe library\n#from pandas.io.json import json_normalize\n#import json # library to handle JSON files\n\n# !conda install -c conda-forge folium=0.5.0 --yes\n#import folium # plotting library\n\n# Matplotlib and associated plotting modules\n#import matplotlib.cm as cm\n#import matplotlib.colors as colors\n\n# import k-means from clustering stage\n#from sklearn.cluster import KMeans\n",
            "execution_count": 2,
            "outputs": []
        },
        {
            "metadata": {},
            "cell_type": "markdown",
            "source": "#### Scrape and Dataframe"
        },
        {
            "metadata": {},
            "cell_type": "code",
            "source": "# Scrape of Canada postal codes\nsource = requests.get(\"https://en.wikipedia.org/wiki/List_of_postal_codes_of_Canada:_M\").text\nsoup = BeautifulSoup(source, 'xml')\ntable = soup.find('table')\n\n# dataframe creation with PostalCode, Borough, and Neighborhood\ndf = pd.DataFrame(columns = ['Postalcode','Borough','Neighborhood'])\n\n    \n# Filling the dataframe with all Postalcodes, Borough, and Neighborhood \nfor i_row in table.find_all('tr'):\n    row_data=[]\n    for i_col in i_row.find_all('td'):\n        row_data.append(i_col.text.strip())\n\n    if len(row_data)==3:\n        df.loc[len(df)] = row_data\n\ndf.head()",
            "execution_count": 65,
            "outputs": [
                {
                    "output_type": "execute_result",
                    "execution_count": 65,
                    "data": {
                        "text/plain": "  Postalcode           Borough                Neighborhood\n0        M1A      Not assigned                            \n1        M2A      Not assigned                            \n2        M3A        North York                   Parkwoods\n3        M4A        North York            Victoria Village\n4        M5A  Downtown Toronto  Regent Park / Harbourfront",
                        "text/html": "<div>\n<style scoped>\n    .dataframe tbody tr th:only-of-type {\n        vertical-align: middle;\n    }\n\n    .dataframe tbody tr th {\n        vertical-align: top;\n    }\n\n    .dataframe thead th {\n        text-align: right;\n    }\n</style>\n<table border=\"1\" class=\"dataframe\">\n  <thead>\n    <tr style=\"text-align: right;\">\n      <th></th>\n      <th>Postalcode</th>\n      <th>Borough</th>\n      <th>Neighborhood</th>\n    </tr>\n  </thead>\n  <tbody>\n    <tr>\n      <th>0</th>\n      <td>M1A</td>\n      <td>Not assigned</td>\n      <td></td>\n    </tr>\n    <tr>\n      <th>1</th>\n      <td>M2A</td>\n      <td>Not assigned</td>\n      <td></td>\n    </tr>\n    <tr>\n      <th>2</th>\n      <td>M3A</td>\n      <td>North York</td>\n      <td>Parkwoods</td>\n    </tr>\n    <tr>\n      <th>3</th>\n      <td>M4A</td>\n      <td>North York</td>\n      <td>Victoria Village</td>\n    </tr>\n    <tr>\n      <th>4</th>\n      <td>M5A</td>\n      <td>Downtown Toronto</td>\n      <td>Regent Park / Harbourfront</td>\n    </tr>\n  </tbody>\n</table>\n</div>"
                    },
                    "metadata": {}
                }
            ]
        },
        {
            "metadata": {},
            "cell_type": "code",
            "source": "# Ignoring cells with a borough that is Not assigned\ndf=df[df['Borough']!='Not assigned']\ndf[\"Neighborhood\"] = df[\"Neighborhood\"].str.replace(\" /\",\", \")\ndf.head()",
            "execution_count": 66,
            "outputs": [
                {
                    "output_type": "execute_result",
                    "execution_count": 66,
                    "data": {
                        "text/plain": "  Postalcode           Borough                                  Neighborhood\n2        M3A        North York                                     Parkwoods\n3        M4A        North York                              Victoria Village\n4        M5A  Downtown Toronto                    Regent Park,  Harbourfront\n5        M6A        North York             Lawrence Manor,  Lawrence Heights\n6        M7A  Downtown Toronto  Queen's Park,  Ontario Provincial Government",
                        "text/html": "<div>\n<style scoped>\n    .dataframe tbody tr th:only-of-type {\n        vertical-align: middle;\n    }\n\n    .dataframe tbody tr th {\n        vertical-align: top;\n    }\n\n    .dataframe thead th {\n        text-align: right;\n    }\n</style>\n<table border=\"1\" class=\"dataframe\">\n  <thead>\n    <tr style=\"text-align: right;\">\n      <th></th>\n      <th>Postalcode</th>\n      <th>Borough</th>\n      <th>Neighborhood</th>\n    </tr>\n  </thead>\n  <tbody>\n    <tr>\n      <th>2</th>\n      <td>M3A</td>\n      <td>North York</td>\n      <td>Parkwoods</td>\n    </tr>\n    <tr>\n      <th>3</th>\n      <td>M4A</td>\n      <td>North York</td>\n      <td>Victoria Village</td>\n    </tr>\n    <tr>\n      <th>4</th>\n      <td>M5A</td>\n      <td>Downtown Toronto</td>\n      <td>Regent Park,  Harbourfront</td>\n    </tr>\n    <tr>\n      <th>5</th>\n      <td>M6A</td>\n      <td>North York</td>\n      <td>Lawrence Manor,  Lawrence Heights</td>\n    </tr>\n    <tr>\n      <th>6</th>\n      <td>M7A</td>\n      <td>Downtown Toronto</td>\n      <td>Queen's Park,  Ontario Provincial Government</td>\n    </tr>\n  </tbody>\n</table>\n</div>"
                    },
                    "metadata": {}
                }
            ]
        },
        {
            "metadata": {},
            "cell_type": "code",
            "source": "# Combining all neighborhood into one row with the same postalcode, separated with a comma\ndf2=df.groupby('Postalcode')['Neighborhood'].apply(lambda x: \"%s\" % ', '.join(x))\ndf2=df2.reset_index(drop=False)\ndf2.rename(columns={'Neighborhood':'Neighborhood2'},inplace=True)\n\ndf3 = pd.merge(df, df2, on='Postalcode')\ndf3.drop(['Neighborhood'],axis=1,inplace=True)\ndf3.drop_duplicates(inplace=True)\ndf3.rename(columns={'Neighborhood2':'Neighborhood'},inplace=True)\n\ndf3.head()",
            "execution_count": 74,
            "outputs": [
                {
                    "output_type": "execute_result",
                    "execution_count": 74,
                    "data": {
                        "text/plain": "  Postalcode           Borough                                  Neighborhood\n0        M3A        North York                                     Parkwoods\n1        M4A        North York                              Victoria Village\n2        M5A  Downtown Toronto                    Regent Park,  Harbourfront\n3        M6A        North York             Lawrence Manor,  Lawrence Heights\n4        M7A  Downtown Toronto  Queen's Park,  Ontario Provincial Government",
                        "text/html": "<div>\n<style scoped>\n    .dataframe tbody tr th:only-of-type {\n        vertical-align: middle;\n    }\n\n    .dataframe tbody tr th {\n        vertical-align: top;\n    }\n\n    .dataframe thead th {\n        text-align: right;\n    }\n</style>\n<table border=\"1\" class=\"dataframe\">\n  <thead>\n    <tr style=\"text-align: right;\">\n      <th></th>\n      <th>Postalcode</th>\n      <th>Borough</th>\n      <th>Neighborhood</th>\n    </tr>\n  </thead>\n  <tbody>\n    <tr>\n      <th>0</th>\n      <td>M3A</td>\n      <td>North York</td>\n      <td>Parkwoods</td>\n    </tr>\n    <tr>\n      <th>1</th>\n      <td>M4A</td>\n      <td>North York</td>\n      <td>Victoria Village</td>\n    </tr>\n    <tr>\n      <th>2</th>\n      <td>M5A</td>\n      <td>Downtown Toronto</td>\n      <td>Regent Park,  Harbourfront</td>\n    </tr>\n    <tr>\n      <th>3</th>\n      <td>M6A</td>\n      <td>North York</td>\n      <td>Lawrence Manor,  Lawrence Heights</td>\n    </tr>\n    <tr>\n      <th>4</th>\n      <td>M7A</td>\n      <td>Downtown Toronto</td>\n      <td>Queen's Park,  Ontario Provincial Government</td>\n    </tr>\n  </tbody>\n</table>\n</div>"
                    },
                    "metadata": {}
                }
            ]
        },
        {
            "metadata": {},
            "cell_type": "code",
            "source": "df3.shape",
            "execution_count": 75,
            "outputs": [
                {
                    "output_type": "execute_result",
                    "execution_count": 75,
                    "data": {
                        "text/plain": "(103, 3)"
                    },
                    "metadata": {}
                }
            ]
        },
        {
            "metadata": {},
            "cell_type": "code",
            "source": "",
            "execution_count": null,
            "outputs": []
        }
    ],
    "metadata": {
        "kernelspec": {
            "name": "python3",
            "display_name": "Python 3.6",
            "language": "python"
        },
        "language_info": {
            "name": "python",
            "version": "3.6.9",
            "mimetype": "text/x-python",
            "codemirror_mode": {
                "name": "ipython",
                "version": 3
            },
            "pygments_lexer": "ipython3",
            "nbconvert_exporter": "python",
            "file_extension": ".py"
        }
    },
    "nbformat": 4,
    "nbformat_minor": 1
}